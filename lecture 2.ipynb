{
 "cells": [
  {
   "cell_type": "code",
   "execution_count": 3,
   "id": "f9381599-d5fc-4fd2-b7a9-bac4ab211f49",
   "metadata": {},
   "outputs": [
    {
     "data": {
      "text/plain": [
       "['.git', '.ipynb_checkpoints', 'lecture 2.ipynb', 'lecture.ipynb', 'README.md']"
      ]
     },
     "execution_count": 3,
     "metadata": {},
     "output_type": "execute_result"
    }
   ],
   "source": [
    "#wap that takes directory addesss from user and organise file into corresponding folder using os model\n",
    "\n",
    "import os\n",
    "address=r\"C:\\Users\\Lenovo\\B1_Mca\"\n",
    "list_of_files=os.listdir(address)\n",
    "list_of_files\n"
   ]
  },
  {
   "cell_type": "code",
   "execution_count": 3,
   "id": "254d6c5c-a39a-4469-b601-d7eb839a9733",
   "metadata": {},
   "outputs": [
    {
     "data": {
      "text/plain": [
       "'name'"
      ]
     },
     "execution_count": 3,
     "metadata": {},
     "output_type": "execute_result"
    }
   ],
   "source": [
    "filename=\"base.name.jpg\"\n",
    "list1=filename.split(\".\")\n",
    "list1[-2]"
   ]
  },
  {
   "cell_type": "code",
   "execution_count": 12,
   "id": "53727278-b3e3-4605-a8a8-a591688d9bf3",
   "metadata": {},
   "outputs": [
    {
     "name": "stdin",
     "output_type": "stream",
     "text": [
      "Enter directory address \n",
      " \n"
     ]
    },
    {
     "name": "stdout",
     "output_type": "stream",
     "text": [
      "1\n"
     ]
    }
   ],
   "source": [
    "#wap to list all the files in a dir, the dir address is taken from user\n",
    "\n",
    "import os\n",
    "address=input(\"Enter directory address \\n\")\n",
    "address=r\"C:\\Users\\Lenovo\\B1_Mca\"\n",
    "\n",
    "os.chdir(address)\n",
    "\n",
    "cmd=\"pwd\"\n",
    "print(os.system(cmd))\n"
   ]
  },
  {
   "cell_type": "code",
   "execution_count": 13,
   "id": "9a67305d-96e8-4e04-8971-e5a9311a8b05",
   "metadata": {},
   "outputs": [],
   "source": [
    "folders=\"Images,Videos,Documents\".split(\",\")\n",
    "#folders=[\"Images\",\"Video\",\"Document\"]\n",
    "\n",
    "for f in folders:\n",
    "    #cmd=f\"mkdir {f}\"\n",
    "    cmd=f\"md{f}\"\n",
    "    os.system(cmd)\n",
    "    "
   ]
  },
  {
   "cell_type": "code",
   "execution_count": 4,
   "id": "078bbacf-0e21-4633-bfbc-967410ef362c",
   "metadata": {},
   "outputs": [
    {
     "data": {
      "text/plain": [
       "['123@stu.upes.ac.in', '234324@stu.upes.ac.in', '345345@stu.upes.ac.in']"
      ]
     },
     "execution_count": 4,
     "metadata": {},
     "output_type": "execute_result"
    }
   ],
   "source": [
    "sapids = [123, 234324, 345345]\n",
    "\n",
    "def id2email(id):\n",
    "    return f\"{id}@stu.upes.ac.in\"\n",
    "\n",
    "emails = []\n",
    "for id in sapids:\n",
    "    email = id2email(id)\n",
    "    emails.append(email)\n",
    "\n",
    "list_of_emails = emails\n",
    "list_of_emails\n"
   ]
  },
  {
   "cell_type": "code",
   "execution_count": 5,
   "id": "d6367d59-693a-4be7-be96-3f3975581698",
   "metadata": {},
   "outputs": [
    {
     "name": "stdout",
     "output_type": "stream",
     "text": [
      "['123@stu.upes.ac.in', '234324@stu.upes.ac.in', '345345@stu.upes.ac.in']\n"
     ]
    }
   ],
   "source": [
    "sapids = [123, 234324, 345345]\n",
    "\n",
    "def id2email(id):\n",
    "    return str(id) + \"@stu.upes.ac.in\"\n",
    "\n",
    "list_of_emails = list(map(id2email, sapids))  # Convert the map object to a list\n",
    "print(list_of_emails)\n"
   ]
  },
  {
   "cell_type": "code",
   "execution_count": 8,
   "id": "ca4cc5f3-4b32-47c6-9b67-0e4cbe60b3b9",
   "metadata": {},
   "outputs": [
    {
     "name": "stdout",
     "output_type": "stream",
     "text": [
      "value of 10\n"
     ]
    }
   ],
   "source": [
    "#try catch in python for error handling\n",
    "\n",
    "#print(f\"value of p\")\n",
    "\n",
    "a=10\n",
    "try:\n",
    "    print(f\"value of {a}\")\n",
    "\n",
    "except:\n",
    "    print(f\"value of a does not exist\")"
   ]
  },
  {
   "cell_type": "code",
   "execution_count": 16,
   "id": "9614a3a2-209a-42e9-a113-789a2396f503",
   "metadata": {},
   "outputs": [
    {
     "name": "stdout",
     "output_type": "stream",
     "text": [
      "assertion is true\n"
     ]
    }
   ],
   "source": [
    "a=10\n",
    "b=20\n",
    "assert a<b\n",
    "print(\"assertion is true\")"
   ]
  },
  {
   "cell_type": "code",
   "execution_count": 17,
   "id": "5806437f-c6b8-4e76-b60c-a8039a74ff17",
   "metadata": {},
   "outputs": [
    {
     "name": "stdout",
     "output_type": "stream",
     "text": [
      "assertion is false\n"
     ]
    }
   ],
   "source": [
    "a=10\n",
    "b=20\n",
    "\n",
    "try:\n",
    "    assert a>b\n",
    "    print(\"assertion is true\")\n",
    "\n",
    "except:\n",
    "    print(\"assertion is false\")\n",
    "    "
   ]
  },
  {
   "cell_type": "code",
   "execution_count": null,
   "id": "1a044c96-35d2-4105-be08-933c3829ef45",
   "metadata": {},
   "outputs": [],
   "source": [
    "# wap that takes two value from user and returns division of first from second\n",
    "\n",
    "a=int(input(\"enter number 1:\"))\n",
    "b=int(input(\"enter number 2:\"))\n",
    "\n",
    "def div(a,b):\n",
    "    return a/b\n",
    "\n",
    "print(f\"division of {a}/{b} is {div(a,b)}\")\n"
   ]
  },
  {
   "cell_type": "code",
   "execution_count": null,
   "id": "31c9d6db-9384-416b-abfa-fbc34d0f3253",
   "metadata": {},
   "outputs": [],
   "source": []
  },
  {
   "cell_type": "code",
   "execution_count": null,
   "id": "c711b335-a60a-4854-9f6e-894fb2ea55d9",
   "metadata": {},
   "outputs": [],
   "source": []
  },
  {
   "cell_type": "code",
   "execution_count": null,
   "id": "cc4d9a84-f455-4194-9769-287708f0645d",
   "metadata": {},
   "outputs": [],
   "source": []
  }
 ],
 "metadata": {
  "kernelspec": {
   "display_name": "Python 3 (ipykernel)",
   "language": "python",
   "name": "python3"
  },
  "language_info": {
   "codemirror_mode": {
    "name": "ipython",
    "version": 3
   },
   "file_extension": ".py",
   "mimetype": "text/x-python",
   "name": "python",
   "nbconvert_exporter": "python",
   "pygments_lexer": "ipython3",
   "version": "3.12.4"
  }
 },
 "nbformat": 4,
 "nbformat_minor": 5
}
