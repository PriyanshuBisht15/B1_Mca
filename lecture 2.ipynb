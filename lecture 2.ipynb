{
 "cells": [
  {
   "cell_type": "code",
   "execution_count": 3,
   "id": "f9381599-d5fc-4fd2-b7a9-bac4ab211f49",
   "metadata": {},
   "outputs": [
    {
     "data": {
      "text/plain": [
       "['.git', '.ipynb_checkpoints', 'lecture 2.ipynb', 'lecture.ipynb', 'README.md']"
      ]
     },
     "execution_count": 3,
     "metadata": {},
     "output_type": "execute_result"
    }
   ],
   "source": [
    "#wap that takes directory addesss from user and organise file into corresponding folder using os model\n",
    "\n",
    "import os\n",
    "address=r\"C:\\Users\\Lenovo\\B1_Mca\"\n",
    "list_of_files=os.listdir(address)\n",
    "list_of_files\n"
   ]
  },
  {
   "cell_type": "code",
   "execution_count": 6,
   "id": "254d6c5c-a39a-4469-b601-d7eb839a9733",
   "metadata": {},
   "outputs": [
    {
     "data": {
      "text/plain": [
       "'jpg'"
      ]
     },
     "execution_count": 6,
     "metadata": {},
     "output_type": "execute_result"
    }
   ],
   "source": [
    "filename=\"base.name.jpg\"\n",
    "list1=filename.split(\".\")\n",
    "list1[-1]"
   ]
  },
  {
   "cell_type": "code",
   "execution_count": null,
   "id": "53727278-b3e3-4605-a8a8-a591688d9bf3",
   "metadata": {},
   "outputs": [],
   "source": [
    "#wap to list all the files in a dir, the dir address is taken from user\n",
    "\n",
    "import os\n",
    "address="
   ]
  },
  {
   "cell_type": "code",
   "execution_count": null,
   "id": "9a67305d-96e8-4e04-8971-e5a9311a8b05",
   "metadata": {},
   "outputs": [],
   "source": []
  },
  {
   "cell_type": "code",
   "execution_count": null,
   "id": "078bbacf-0e21-4633-bfbc-967410ef362c",
   "metadata": {},
   "outputs": [],
   "source": []
  },
  {
   "cell_type": "code",
   "execution_count": null,
   "id": "d6367d59-693a-4be7-be96-3f3975581698",
   "metadata": {},
   "outputs": [],
   "source": []
  },
  {
   "cell_type": "code",
   "execution_count": null,
   "id": "ca4cc5f3-4b32-47c6-9b67-0e4cbe60b3b9",
   "metadata": {},
   "outputs": [],
   "source": []
  },
  {
   "cell_type": "code",
   "execution_count": null,
   "id": "9614a3a2-209a-42e9-a113-789a2396f503",
   "metadata": {},
   "outputs": [],
   "source": []
  }
 ],
 "metadata": {
  "kernelspec": {
   "display_name": "Python 3 (ipykernel)",
   "language": "python",
   "name": "python3"
  },
  "language_info": {
   "codemirror_mode": {
    "name": "ipython",
    "version": 3
   },
   "file_extension": ".py",
   "mimetype": "text/x-python",
   "name": "python",
   "nbconvert_exporter": "python",
   "pygments_lexer": "ipython3",
   "version": "3.12.4"
  }
 },
 "nbformat": 4,
 "nbformat_minor": 5
}
