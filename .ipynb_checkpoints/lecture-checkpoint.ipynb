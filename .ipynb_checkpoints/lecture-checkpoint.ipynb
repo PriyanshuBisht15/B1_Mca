{
 "cells": [
  {
   "cell_type": "code",
   "execution_count": 1,
   "id": "3819cd68-a1f6-4bc5-bd91-2f87b37a340d",
   "metadata": {},
   "outputs": [
    {
     "name": "stdout",
     "output_type": "stream",
     "text": [
      "140709596969400\n",
      "140709596969400\n"
     ]
    }
   ],
   "source": [
    "a=1\n",
    "b=1\n",
    "print(id(a))\n",
    "print(id(b))"
   ]
  },
  {
   "cell_type": "code",
   "execution_count": 2,
   "id": "59d73114-54cb-4271-8629-4d279aaa8563",
   "metadata": {},
   "outputs": [
    {
     "name": "stdout",
     "output_type": "stream",
     "text": [
      "140709596969400\n"
     ]
    }
   ],
   "source": [
    "c=1\n",
    "print(id(c))"
   ]
  },
  {
   "cell_type": "code",
   "execution_count": 3,
   "id": "6f0af0ae-3400-4218-bb0b-bb2180983698",
   "metadata": {},
   "outputs": [
    {
     "name": "stdout",
     "output_type": "stream",
     "text": [
      "140709596969432\n"
     ]
    }
   ],
   "source": [
    "c=c+1\n",
    "print(id(c))"
   ]
  },
  {
   "cell_type": "code",
   "execution_count": 4,
   "id": "21a48b69-98b1-4efc-a973-f9c58d86ede1",
   "metadata": {},
   "outputs": [
    {
     "name": "stdout",
     "output_type": "stream",
     "text": [
      "140709596969400\n"
     ]
    }
   ],
   "source": [
    "c=c-1\n",
    "print(id(c))"
   ]
  },
  {
   "cell_type": "code",
   "execution_count": 5,
   "id": "5b185970-4909-46a1-af19-978bcabf6796",
   "metadata": {},
   "outputs": [
    {
     "data": {
      "text/plain": [
       "(10, 11)"
      ]
     },
     "execution_count": 5,
     "metadata": {},
     "output_type": "execute_result"
    }
   ],
   "source": [
    "a=(10,11)\n",
    "a"
   ]
  },
  {
   "cell_type": "code",
   "execution_count": 6,
   "id": "96b097ba-9e97-43b6-aea7-6e9a5e812243",
   "metadata": {},
   "outputs": [
    {
     "name": "stdout",
     "output_type": "stream",
     "text": [
      "{1, 2, 3}\n"
     ]
    }
   ],
   "source": [
    "set1={1,2,3}\n",
    "print(set1)"
   ]
  },
  {
   "cell_type": "code",
   "execution_count": 7,
   "id": "3d120d5e-62b7-4667-86e4-c1af890bf3e7",
   "metadata": {},
   "outputs": [
    {
     "name": "stdout",
     "output_type": "stream",
     "text": [
      "{'name': 'Priyanshu', 'batch': 'b1'}\n"
     ]
    }
   ],
   "source": [
    "dic1={\"name\":\"Priyanshu\",\"batch\":\"b1\"}\n",
    "print(dic1)"
   ]
  },
  {
   "cell_type": "code",
   "execution_count": 8,
   "id": "7151db36-356f-4106-b8b3-b456bc468d1a",
   "metadata": {},
   "outputs": [
    {
     "data": {
      "text/plain": [
       "'Priyanshu'"
      ]
     },
     "execution_count": 8,
     "metadata": {},
     "output_type": "execute_result"
    }
   ],
   "source": [
    "dic1[\"name\"]"
   ]
  },
  {
   "cell_type": "code",
   "execution_count": 9,
   "id": "1b8bd3e7-872e-40ad-854a-f73856e5f7ed",
   "metadata": {},
   "outputs": [
    {
     "name": "stdout",
     "output_type": "stream",
     "text": [
      "Help on dict object:\n",
      "\n",
      "class dict(object)\n",
      " |  dict() -> new empty dictionary\n",
      " |  dict(mapping) -> new dictionary initialized from a mapping object's\n",
      " |      (key, value) pairs\n",
      " |  dict(iterable) -> new dictionary initialized as if via:\n",
      " |      d = {}\n",
      " |      for k, v in iterable:\n",
      " |          d[k] = v\n",
      " |  dict(**kwargs) -> new dictionary initialized with the name=value pairs\n",
      " |      in the keyword argument list.  For example:  dict(one=1, two=2)\n",
      " |\n",
      " |  Built-in subclasses:\n",
      " |      StgDict\n",
      " |\n",
      " |  Methods defined here:\n",
      " |\n",
      " |  __contains__(self, key, /)\n",
      " |      True if the dictionary has the specified key, else False.\n",
      " |\n",
      " |  __delitem__(self, key, /)\n",
      " |      Delete self[key].\n",
      " |\n",
      " |  __eq__(self, value, /)\n",
      " |      Return self==value.\n",
      " |\n",
      " |  __ge__(self, value, /)\n",
      " |      Return self>=value.\n",
      " |\n",
      " |  __getattribute__(self, name, /)\n",
      " |      Return getattr(self, name).\n",
      " |\n",
      " |  __getitem__(self, key, /)\n",
      " |      Return self[key].\n",
      " |\n",
      " |  __gt__(self, value, /)\n",
      " |      Return self>value.\n",
      " |\n",
      " |  __init__(self, /, *args, **kwargs)\n",
      " |      Initialize self.  See help(type(self)) for accurate signature.\n",
      " |\n",
      " |  __ior__(self, value, /)\n",
      " |      Return self|=value.\n",
      " |\n",
      " |  __iter__(self, /)\n",
      " |      Implement iter(self).\n",
      " |\n",
      " |  __le__(self, value, /)\n",
      " |      Return self<=value.\n",
      " |\n",
      " |  __len__(self, /)\n",
      " |      Return len(self).\n",
      " |\n",
      " |  __lt__(self, value, /)\n",
      " |      Return self<value.\n",
      " |\n",
      " |  __ne__(self, value, /)\n",
      " |      Return self!=value.\n",
      " |\n",
      " |  __or__(self, value, /)\n",
      " |      Return self|value.\n",
      " |\n",
      " |  __repr__(self, /)\n",
      " |      Return repr(self).\n",
      " |\n",
      " |  __reversed__(self, /)\n",
      " |      Return a reverse iterator over the dict keys.\n",
      " |\n",
      " |  __ror__(self, value, /)\n",
      " |      Return value|self.\n",
      " |\n",
      " |  __setitem__(self, key, value, /)\n",
      " |      Set self[key] to value.\n",
      " |\n",
      " |  __sizeof__(...)\n",
      " |      D.__sizeof__() -> size of D in memory, in bytes\n",
      " |\n",
      " |  clear(...)\n",
      " |      D.clear() -> None.  Remove all items from D.\n",
      " |\n",
      " |  copy(...)\n",
      " |      D.copy() -> a shallow copy of D\n",
      " |\n",
      " |  get(self, key, default=None, /)\n",
      " |      Return the value for key if key is in the dictionary, else default.\n",
      " |\n",
      " |  items(...)\n",
      " |      D.items() -> a set-like object providing a view on D's items\n",
      " |\n",
      " |  keys(...)\n",
      " |      D.keys() -> a set-like object providing a view on D's keys\n",
      " |\n",
      " |  pop(...)\n",
      " |      D.pop(k[,d]) -> v, remove specified key and return the corresponding value.\n",
      " |\n",
      " |      If the key is not found, return the default if given; otherwise,\n",
      " |      raise a KeyError.\n",
      " |\n",
      " |  popitem(self, /)\n",
      " |      Remove and return a (key, value) pair as a 2-tuple.\n",
      " |\n",
      " |      Pairs are returned in LIFO (last-in, first-out) order.\n",
      " |      Raises KeyError if the dict is empty.\n",
      " |\n",
      " |  setdefault(self, key, default=None, /)\n",
      " |      Insert key with a value of default if key is not in the dictionary.\n",
      " |\n",
      " |      Return the value for key if key is in the dictionary, else default.\n",
      " |\n",
      " |  update(...)\n",
      " |      D.update([E, ]**F) -> None.  Update D from dict/iterable E and F.\n",
      " |      If E is present and has a .keys() method, then does:  for k in E: D[k] = E[k]\n",
      " |      If E is present and lacks a .keys() method, then does:  for k, v in E: D[k] = v\n",
      " |      In either case, this is followed by: for k in F:  D[k] = F[k]\n",
      " |\n",
      " |  values(...)\n",
      " |      D.values() -> an object providing a view on D's values\n",
      " |\n",
      " |  ----------------------------------------------------------------------\n",
      " |  Class methods defined here:\n",
      " |\n",
      " |  __class_getitem__(...)\n",
      " |      See PEP 585\n",
      " |\n",
      " |  fromkeys(iterable, value=None, /)\n",
      " |      Create a new dictionary with keys from iterable and values set to value.\n",
      " |\n",
      " |  ----------------------------------------------------------------------\n",
      " |  Static methods defined here:\n",
      " |\n",
      " |  __new__(*args, **kwargs)\n",
      " |      Create and return a new object.  See help(type) for accurate signature.\n",
      " |\n",
      " |  ----------------------------------------------------------------------\n",
      " |  Data and other attributes defined here:\n",
      " |\n",
      " |  __hash__ = None\n",
      "\n"
     ]
    }
   ],
   "source": [
    "help(dic1)"
   ]
  },
  {
   "cell_type": "code",
   "execution_count": 3,
   "id": "634d3329-ac19-43ef-890b-4019eceafa9d",
   "metadata": {},
   "outputs": [
    {
     "name": "stdout",
     "output_type": "stream",
     "text": [
      "a is greater\n",
      "average of a three number is: 4.0\n"
     ]
    }
   ],
   "source": [
    "def problem(a,b,c):\n",
    "    if a>b and a>c:\n",
    "        print(\"a is greater\")\n",
    "    elif b>a and b>c:\n",
    "        print(\"b is greater\")\n",
    "    else:\n",
    "        print(\"c is greater\")\n",
    "    avg=(a+b+c)/3\n",
    "    print(\"average of a three number is:\",avg)\n",
    "\n",
    "problem(6,4,2)\n",
    "   \n",
    "    \n",
    "    "
   ]
  },
  {
   "cell_type": "code",
   "execution_count": 2,
   "id": "bf2a3071-2d19-471b-bd92-41725c67ad98",
   "metadata": {},
   "outputs": [
    {
     "data": {
      "text/plain": [
       "7"
      ]
     },
     "execution_count": 2,
     "metadata": {},
     "output_type": "execute_result"
    }
   ],
   "source": [
    "sum([1,2,4])"
   ]
  },
  {
   "cell_type": "code",
   "execution_count": 3,
   "id": "ae73c82f-6fc4-454c-a61e-08aac570a37e",
   "metadata": {},
   "outputs": [
    {
     "data": {
      "text/plain": [
       "1"
      ]
     },
     "execution_count": 3,
     "metadata": {},
     "output_type": "execute_result"
    }
   ],
   "source": [
    "min([1,2,3])"
   ]
  },
  {
   "cell_type": "code",
   "execution_count": 1,
   "id": "cd56e7be-e583-4c9c-bafb-c513bae5812b",
   "metadata": {},
   "outputs": [
    {
     "data": {
      "text/plain": [
       "3"
      ]
     },
     "execution_count": 1,
     "metadata": {},
     "output_type": "execute_result"
    }
   ],
   "source": [
    "max([1,2,3])"
   ]
  },
  {
   "cell_type": "code",
   "execution_count": 1,
   "id": "8626b0d2-a831-4580-a797-316d14b2ff3f",
   "metadata": {},
   "outputs": [
    {
     "name": "stdin",
     "output_type": "stream",
     "text": [
      "enter a number: 5\n"
     ]
    },
    {
     "name": "stdout",
     "output_type": "stream",
     "text": [
      "5\n",
      "5 x 1 = 5\n",
      "5 x 2 = 10\n",
      "5 x 3 = 15\n",
      "5 x 4 = 20\n",
      "5 x 5 = 25\n",
      "5 x 6 = 30\n",
      "5 x 7 = 35\n",
      "5 x 8 = 40\n",
      "5 x 9 = 45\n",
      "5 x 10 = 50\n"
     ]
    }
   ],
   "source": [
    "a=int(input(\"enter a number:\"))\n",
    "print(a)\n",
    "for i in range(1,11):\n",
    "    print(a,'x',i,'=',a*i)"
   ]
  },
  {
   "cell_type": "code",
   "execution_count": 2,
   "id": "82bc6ee2-3806-421e-9034-9c73c561ce04",
   "metadata": {},
   "outputs": [
    {
     "name": "stdout",
     "output_type": "stream",
     "text": [
      "Original Matrix:\n",
      "[1, 2, 3]\n",
      "[4, 5, 6]\n",
      "[7, 8, 9]\n",
      "\n",
      "Multiplied Matrix:\n",
      "[5, 10, 15]\n",
      "[20, 25, 30]\n",
      "[35, 40, 45]\n",
      "\n"
     ]
    }
   ],
   "source": [
    "#a user  has a 3x3 and then in the copied matrix multiply each value by a constant and store the result in place after this print both the matrix\n",
    "\n",
    "def print_matrix(matrix, name):\n",
    "    print(f\"{name}:\")\n",
    "    for row in matrix:\n",
    "        print(row)\n",
    "    print()\n",
    "\n",
    "def multiply_and_print(matrix, constant):\n",
    "    # Print the original matrix\n",
    "    print_matrix(matrix, \"Original Matrix\")\n",
    "\n",
    "    # Multiply each element by the constant and store in the same place\n",
    "    multiplied_matrix = [[element * constant for element in row] for row in matrix]\n",
    "\n",
    "    # Print the multiplied matrix\n",
    "    print_matrix(multiplied_matrix, \"Multiplied Matrix\")\n",
    "\n",
    "# Define a 3x3 matrix\n",
    "matrix = [\n",
    "    [1, 2, 3],\n",
    "    [4, 5, 6],\n",
    "    [7, 8, 9]\n",
    "]\n",
    "\n",
    "# Multiply the matrix by a constant and print the results\n",
    "multiply_and_print(matrix, 5)\n"
   ]
  },
  {
   "cell_type": "code",
   "execution_count": 8,
   "id": "8fa053de-cf79-4bab-be06-1bb46e8fbd69",
   "metadata": {},
   "outputs": [
    {
     "name": "stdout",
     "output_type": "stream",
     "text": [
      "odd\n"
     ]
    }
   ],
   "source": [
    "def odd_even(n):\n",
    "    if n%2==0:\n",
    "        print(\"even\")\n",
    "    else:\n",
    "        print(\"odd\")\n",
    "\n",
    "odd_even(11)"
   ]
  },
  {
   "cell_type": "code",
   "execution_count": 9,
   "id": "720a1c19-72fa-4ddb-a3d2-e6d913ee3e68",
   "metadata": {},
   "outputs": [
    {
     "name": "stdout",
     "output_type": "stream",
     "text": [
      "List A: [2, 4, 6, [1, 3]]\n",
      "List B: [2, 4, 6, [1, 3]]\n",
      "\n",
      "List A: [2, 4, 6, [55, 3]]\n",
      "List B: [2, 44, 6, [55, 3]]\n",
      "\n"
     ]
    }
   ],
   "source": [
    "import copy\n",
    "\n",
    "def showDetails(listA, listB):\n",
    "    print(\"List A:\", listA)\n",
    "    print(\"List B:\", listB)\n",
    "    print()\n",
    "\n",
    "listA = [2, 4, 6, [1, 3]]\n",
    "listB = copy.copy(listA)\n",
    "\n",
    "showDetails(listA, listB)\n",
    "\n",
    "listB[1] = 44\n",
    "listB[3][0] = 55\n",
    "\n",
    "showDetails(listA, listB)\n"
   ]
  },
  {
   "cell_type": "code",
   "execution_count": 12,
   "id": "e2ae8210-f366-49b1-88d2-6ca6b81e0399",
   "metadata": {},
   "outputs": [
    {
     "name": "stdout",
     "output_type": "stream",
     "text": [
      "8\n"
     ]
    }
   ],
   "source": [
    "def add(a,b):\n",
    "    \"\"\"Returns the sum of two numbers.\"\"\"\n",
    "    return a+b #calling the function with arguments\n",
    "\n",
    "result=add(5,3)\n",
    "print(result)  "
   ]
  },
  {
   "cell_type": "code",
   "execution_count": 14,
   "id": "e9e37b32-2d42-4009-abe1-b7c4d4843237",
   "metadata": {},
   "outputs": [
    {
     "data": {
      "text/plain": [
       "10"
      ]
     },
     "execution_count": 14,
     "metadata": {},
     "output_type": "execute_result"
    }
   ],
   "source": [
    "# wap to add the three number and return its value\n",
    "\n",
    "def summ(a,b,c):\n",
    "    sum=a+b+c\n",
    "    return sum\n",
    "\n",
    "summ(2,4,4)"
   ]
  },
  {
   "cell_type": "code",
   "execution_count": 16,
   "id": "4ec291ad-2ca7-4af5-971d-f73edf773c86",
   "metadata": {},
   "outputs": [],
   "source": [
    "def sum3(a,*args):\n",
    "    print(args)\n",
    "    res=0\n",
    "    return res"
   ]
  },
  {
   "cell_type": "code",
   "execution_count": 17,
   "id": "045318bc-5d0c-43cb-abb4-3a3877917de9",
   "metadata": {},
   "outputs": [
    {
     "name": "stdout",
     "output_type": "stream",
     "text": [
      "(2, 3, 4)\n"
     ]
    }
   ],
   "source": [
    "res=sum3(1,2,3,4)"
   ]
  },
  {
   "cell_type": "code",
   "execution_count": 18,
   "id": "380035ba-1157-423f-8a34-77a2b56b2fb9",
   "metadata": {},
   "outputs": [],
   "source": [
    "def sum3(a,*args):\n",
    "    print(a)\n",
    "    print(args)\n",
    "    res=a\n",
    "    for i in range(0,len(args)):\n",
    "        res=res+args[i]\n",
    "    return res"
   ]
  },
  {
   "cell_type": "code",
   "execution_count": 19,
   "id": "173f740d-340a-4ca5-b44c-864f2dc454ba",
   "metadata": {},
   "outputs": [
    {
     "name": "stdout",
     "output_type": "stream",
     "text": [
      "1\n",
      "(2, 3, 4)\n"
     ]
    }
   ],
   "source": [
    "res=sum3(1,2,3,4)"
   ]
  },
  {
   "cell_type": "code",
   "execution_count": 20,
   "id": "21f2142e-ba9a-4a72-9b90-667b785e32c1",
   "metadata": {},
   "outputs": [
    {
     "name": "stdout",
     "output_type": "stream",
     "text": [
      "Help on function sum3 in module __main__:\n",
      "\n",
      "sum3(a, *args)\n",
      "\n"
     ]
    }
   ],
   "source": [
    "help(sum3)"
   ]
  },
  {
   "cell_type": "code",
   "execution_count": 24,
   "id": "9760cd5e-2c1d-4bdd-be93-7c3ea43a09cb",
   "metadata": {},
   "outputs": [],
   "source": [
    "dict1={\n",
    "    \"name\":\"Raj\",\n",
    "    \"batch\":\"B1\",\n",
    "    \"Classtime\":\"8:AM\"\n",
    "}"
   ]
  },
  {
   "cell_type": "code",
   "execution_count": 26,
   "id": "cd37077e-a483-466a-aade-b206c1cff875",
   "metadata": {},
   "outputs": [
    {
     "name": "stdout",
     "output_type": "stream",
     "text": [
      "(1, 2, 3) {'a': 1, 'b': 2, 'c': 3}\n"
     ]
    }
   ],
   "source": [
    "def printDictionary(*args,**kwargs): #keyword arguments\n",
    "    print(args,kwargs)\n",
    "\n",
    "printDictionary(1,2,3 ,a=1,b=2,c=3)\n",
    "    "
   ]
  },
  {
   "cell_type": "code",
   "execution_count": 27,
   "id": "0df1445e-617d-4508-9a2f-589448a5c1f2",
   "metadata": {},
   "outputs": [
    {
     "data": {
      "text/plain": [
       "(4, 2)"
      ]
     },
     "execution_count": 27,
     "metadata": {},
     "output_type": "execute_result"
    }
   ],
   "source": [
    "def swap(a,b):\n",
    "    return b,a\n",
    "\n",
    "swap(2,4)\n"
   ]
  },
  {
   "cell_type": "code",
   "execution_count": 2,
   "id": "a3298fc1-66f1-4c65-9967-0813f2f1f697",
   "metadata": {},
   "outputs": [
    {
     "name": "stdout",
     "output_type": "stream",
     "text": [
      "{'sum': 25, 'cumulative_sum': [3, 8, 10, 18, 25], 'average': 5.0, 'min': 2.0, 'max': 8.0}\n"
     ]
    }
   ],
   "source": [
    "#write a function that takes one input argument as input and  return its sum , cumulative sum, average,min and max value\n",
    "#implement this function using for loop\n",
    "#Define function documentation using doc string and show its uses\n",
    "\n",
    "\n",
    "def calculate_stats(numbers):\n",
    "    \"\"\"\n",
    "    Returns the sum, cumulative sum, average, min, and max of a list of numbers.\n",
    "    \"\"\"\n",
    "    total_sum = 0\n",
    "    cumulative_sum = []\n",
    "    min_value = float(min(numbers))\n",
    "    max_value = float(max(numbers))\n",
    "\n",
    "    for num in numbers:\n",
    "        total_sum += num\n",
    "        cumulative_sum.append(total_sum)\n",
    "        min_value = min(min_value, num)\n",
    "        max_value = max(max_value, num)\n",
    "\n",
    "    average = total_sum / len(numbers) if numbers else 0\n",
    "\n",
    "    return {\n",
    "        'sum': total_sum,\n",
    "        'cumulative_sum': cumulative_sum,\n",
    "        'average': average,\n",
    "        'min': min_value,\n",
    "        'max': max_value\n",
    "    }\n",
    "\n",
    "# Example usage:\n",
    "numbers = [3, 5, 2, 8, 7]\n",
    "result = calculate_stats(numbers)\n",
    "\n",
    "print(result)\n",
    "\n"
   ]
  },
  {
   "cell_type": "code",
   "execution_count": 9,
   "id": "f69a6ab2-4192-4556-8206-3f72f8f7666b",
   "metadata": {},
   "outputs": [
    {
     "name": "stdout",
     "output_type": "stream",
     "text": [
      "value of x in global scope before function execution10\n",
      "value of x in outer function after modification20\n",
      "10\n"
     ]
    }
   ],
   "source": [
    "x=10                        #global variable\n",
    "def outer_function():\n",
    "   # print(f\"value of x in outer function(x)\")\n",
    "    x=20             #enclosing variable\n",
    "    print(f\"value of x in outer function after modification{x}\")\n",
    "    \n",
    "    #def inner_function():\n",
    "     #   x=30                #local variable\n",
    "      #  print(x)            #output:30\n",
    "    #inner_function()\n",
    "    #print(x)                #output:20\n",
    "\n",
    "#print(x)                     #output:10\n",
    "print(f\"value of x in global scope before function execution{x}\")\n",
    "outer_function()\n",
    "print(x)\n",
    "\n",
    "\n",
    "    "
   ]
  },
  {
   "cell_type": "code",
   "execution_count": 2,
   "id": "011f684c-2f9c-4d79-9306-771f42d74281",
   "metadata": {},
   "outputs": [
    {
     "data": {
      "text/plain": [
       "30"
      ]
     },
     "execution_count": 2,
     "metadata": {},
     "output_type": "execute_result"
    }
   ],
   "source": [
    "#function to add two variable\n",
    "\n",
    "def myadd1(a,b):\n",
    "    res=a+b\n",
    "    return res\n",
    "a=10\n",
    "b=20\n",
    "res=myadd1(a,b)\n",
    "res"
   ]
  },
  {
   "cell_type": "code",
   "execution_count": 9,
   "id": "67ae625b-a174-4f98-b587-f02295b4ea21",
   "metadata": {},
   "outputs": [
    {
     "name": "stdout",
     "output_type": "stream",
     "text": [
      "8\n",
      "[1, 4, 9, 16]\n"
     ]
    }
   ],
   "source": [
    "#lamda function to add two numbers\n",
    "\n",
    "add=lambda a, b:a + b\n",
    "print(add(3,5))     #output: Using a lamda function with map\n",
    "\n",
    "numbers=[1,2,3,4]\n",
    "squared=map(lambda x:x*x,numbers)\n",
    "print(list(squared)) #output:[1,4,9,16]"
   ]
  },
  {
   "cell_type": "code",
   "execution_count": 11,
   "id": "98ffc61a-df82-4381-8541-902a6b7c982d",
   "metadata": {},
   "outputs": [
    {
     "name": "stdout",
     "output_type": "stream",
     "text": [
      "<function <lambda> at 0x000002B55CD42AC0>\n"
     ]
    },
    {
     "data": {
      "text/plain": [
       "10"
      ]
     },
     "execution_count": 11,
     "metadata": {},
     "output_type": "execute_result"
    }
   ],
   "source": [
    "#wap to multible two variable using lamda function\n",
    "\n",
    "a=2\n",
    "b=5 \n",
    "\n",
    "#normal function with def\n",
    "#def mul(a,b):\n",
    " #   return a*b\n",
    "\n",
    "#anaonymus function using lambda    \n",
    "mul=lambda a,b :a*b\n",
    "\n",
    "print(mul)\n",
    "\n",
    "mul(a,b)"
   ]
  },
  {
   "cell_type": "code",
   "execution_count": 14,
   "id": "20f6902c-b8ca-42f6-96e6-2a1a6a6ddc97",
   "metadata": {},
   "outputs": [
    {
     "name": "stdout",
     "output_type": "stream",
     "text": [
      "[1, 4, 9, 16, 25]\n"
     ]
    }
   ],
   "source": [
    "#wap to square each number in a list without using map and lambda\n",
    "\n",
    "\n",
    "numbers = [1, 2, 3, 4, 5]\n",
    "\n",
    "# Squaring each number using list comprehension\n",
    "squared_numbers = [x ** 2 for x in numbers]\n",
    "print(squared_numbers)\n"
   ]
  },
  {
   "cell_type": "code",
   "execution_count": 18,
   "id": "0b87c769-7da1-40f4-8b2d-78a4900e3300",
   "metadata": {},
   "outputs": [
    {
     "name": "stdout",
     "output_type": "stream",
     "text": [
      "[4, 16, 36]\n"
     ]
    }
   ],
   "source": [
    "#wap to square each number in a list without using map and lambda returns only even and discard odd\n",
    "\n",
    "numbers = [1, 2, 3, 4, 5, 6]\n",
    "even_squares = [x ** 2 for x in numbers if (x ** 2) % 2 == 0]\n",
    "print(even_squares)\n"
   ]
  },
  {
   "cell_type": "code",
   "execution_count": 19,
   "id": "9c094d03-186b-4cb4-8d55-6eca16529de0",
   "metadata": {},
   "outputs": [
    {
     "name": "stdout",
     "output_type": "stream",
     "text": [
      "[1, 4, 9, 16, 25]\n",
      "[2, 4]\n"
     ]
    }
   ],
   "source": [
    "#using map to square each number in a list\n",
    "\n",
    "numbers=[1,2,3,4,5]\n",
    "squared=map(lambda x:x*x,numbers)\n",
    "print(list(squared)) #output:[1,4,9,16,25]using filter to get only even numbers from a list\n",
    "\n",
    "even_numbers=filter(lambda x: x % 2==0,numbers)\n",
    "print(list(even_numbers))  #output:[2,4]"
   ]
  },
  {
   "cell_type": "code",
   "execution_count": 28,
   "id": "f439474e-73ff-4564-8ed7-e350204a8633",
   "metadata": {},
   "outputs": [
    {
     "name": "stdout",
     "output_type": "stream",
     "text": [
      "[0, 4, 16, 36, 64]\n"
     ]
    }
   ],
   "source": [
    "#wap to create a list of square of even number from 0 to 9\n",
    "\n",
    "#without list comprehension\n",
    "squares=[]\n",
    "for i in range(10):\n",
    "    if i%2==0:\n",
    "        squares.append(i**2)\n",
    "\n",
    "print(squares)"
   ]
  },
  {
   "cell_type": "code",
   "execution_count": 27,
   "id": "d991ce90-9a4a-4bd8-9b09-ac780b9c7167",
   "metadata": {},
   "outputs": [
    {
     "name": "stdout",
     "output_type": "stream",
     "text": [
      "[0, 4, 16, 36, 64]\n"
     ]
    }
   ],
   "source": [
    "#with list compreshension\n",
    "\n",
    "squares=[i**2 for i in range(10) if i%2==0]\n",
    "print(squares)\n"
   ]
  },
  {
   "cell_type": "code",
   "execution_count": 36,
   "id": "39a332c6-8f81-4e72-9023-09d78de47fe2",
   "metadata": {},
   "outputs": [
    {
     "name": "stdout",
     "output_type": "stream",
     "text": [
      "590010472Priyanshu.10472@stu.upes.ac.in\n"
     ]
    }
   ],
   "source": [
    "#wap that take a list containing your sap id and returns a list of email address\n",
    "\n",
    "def generate_email(sap_id):\n",
    "    email_domain = \"Priyanshu.10472@stu.upes.ac.in\" \n",
    "    email = str(sap_id) + email_domain\n",
    "    return email\n",
    "\n",
    "sap_id =590010472 \n",
    "email = generate_email(sap_id)\n",
    "print(email)\n",
    "\n"
   ]
  },
  {
   "cell_type": "code",
   "execution_count": 35,
   "id": "ee79eb4e-2359-482d-be55-34ec70b7980b",
   "metadata": {},
   "outputs": [
    {
     "name": "stdout",
     "output_type": "stream",
     "text": [
      "590010472Priyanshu.10472@stu.upes.ac.in\n"
     ]
    }
   ],
   "source": [
    "sap_id = 590010472  \n",
    "email_domain = \"Priyanshu.10472@stu.upes.ac.in\"\n",
    "email = str(sap_id) + email_domain\n",
    "print(email)\n"
   ]
  },
  {
   "cell_type": "code",
   "execution_count": null,
   "id": "8b38037f-2f49-4b60-bf9c-5a2b0fef6d89",
   "metadata": {},
   "outputs": [],
   "source": [
    "#wap that takes email address from user and message from user and using smtp library send the messages to all the email addresses\n",
    "\n"
   ]
  },
  {
   "cell_type": "code",
   "execution_count": 39,
   "id": "be67af73-61d9-4f85-8d3c-1e0c68c6c053",
   "metadata": {},
   "outputs": [
    {
     "name": "stdout",
     "output_type": "stream",
     "text": [
      "Current time: 09:14:15\n",
      "Current time after 2 seconds: 09:14:17\n"
     ]
    }
   ],
   "source": [
    "#wap  to print current time then pause for 2 seconds and again print current time\n",
    "\n",
    "import time\n",
    "from datetime import datetime\n",
    "\n",
    "# Print the current time\n",
    "print(\"Current time:\", datetime.now().strftime(\"%H:%M:%S\"))\n",
    "\n",
    "# Pause for 2 seconds\n",
    "time.sleep(2)\n",
    "\n",
    "# Print the current time again\n",
    "print(\"Current time after 2 seconds:\", datetime.now().strftime(\"%H:%M:%S\"))\n"
   ]
  },
  {
   "cell_type": "code",
   "execution_count": 42,
   "id": "200b3cbe-e768-48ef-b339-b263b2ab493d",
   "metadata": {},
   "outputs": [
    {
     "name": "stdout",
     "output_type": "stream",
     "text": [
      "Tue Sep 10 09:24:08 2024\n",
      "\n",
      "\n",
      "Tue Sep 10 09:24:10 2024\n",
      "\n",
      "\n"
     ]
    }
   ],
   "source": [
    "import time\n",
    "def showTime():\n",
    "    print(time.ctime())\n",
    "    print(\"\\n\")\n",
    "    time.sleep(2)\n",
    "\n",
    "showTime()\n",
    "showTime()"
   ]
  },
  {
   "cell_type": "code",
   "execution_count": 41,
   "id": "db408802-deea-4505-8b38-2711e92eeba8",
   "metadata": {},
   "outputs": [
    {
     "name": "stdin",
     "output_type": "stream",
     "text": [
      "Enter the directory address:  C:\\Users\\Lenovo\\Documents\\Harry Potter series\n"
     ]
    },
    {
     "name": "stdout",
     "output_type": "stream",
     "text": [
      "Harry Potter And The Chamber Of Secrets.mkv\n",
      "Harry Potter And The Deathly Hallows Part 1 (2010)  BRRip 720p.mkv\n",
      "Harry Potter And The Prisoner Of Azkaban.mkv\n",
      "Harry Potter and the Sorcerer's Stone (2001) Ult. Extended 1080p 10bit Bluray x265 HEVC [Org DD 2.0 Hindi + DD 5.1 English] ESub ~ TombDoc.mkv\n",
      "Harry Potter DH Part 2 2011 720p BRRip 6Ch Dual Audio Eng-Hindi [MEGUIL & HD-KING].mkv\n",
      "Harry Potter.4 and THE GOBLET OF FIRE.mkv\n",
      "Harry Potter.6 and the Half-Blood Prince(2009)Hindi-DVDRip-XviD ~ Smeet.avi\n",
      "Harry.Potter.5[Eng-Hindi]Dual.Audio[Brrip]720p-ahl07.mkv\n"
     ]
    }
   ],
   "source": [
    "#wap that takes directory address from user and return a list of files and directories in that list using OS model\n",
    "\n",
    "import os\n",
    "\n",
    "# Get directory path from user\n",
    "dir_path = input(\"Enter the directory address: \")\n",
    "\n",
    "# List and print files and directories\n",
    "for item in os.listdir(dir_path):\n",
    "    print(item)\n"
   ]
  },
  {
   "cell_type": "code",
   "execution_count": null,
   "id": "34171a0b-ce7e-46ef-9254-a6657a14dba1",
   "metadata": {},
   "outputs": [],
   "source": []
  },
  {
   "cell_type": "code",
   "execution_count": null,
   "id": "4933e2b7-f505-4dde-99eb-8d254644e9a3",
   "metadata": {},
   "outputs": [],
   "source": []
  },
  {
   "cell_type": "code",
   "execution_count": null,
   "id": "38791fc0-f4e0-4a96-890a-a061b1ce03c6",
   "metadata": {},
   "outputs": [],
   "source": []
  },
  {
   "cell_type": "code",
   "execution_count": null,
   "id": "bbc830bb-a4d7-41b4-be38-a32dd62f8ae9",
   "metadata": {},
   "outputs": [],
   "source": []
  },
  {
   "cell_type": "code",
   "execution_count": null,
   "id": "68a07699-d8e9-4bf1-ac96-f78bc84d38fb",
   "metadata": {},
   "outputs": [],
   "source": []
  },
  {
   "cell_type": "code",
   "execution_count": null,
   "id": "7be85cb2-67dc-49e7-9882-edc2d1322092",
   "metadata": {},
   "outputs": [],
   "source": []
  },
  {
   "cell_type": "code",
   "execution_count": null,
   "id": "5d9d0c87-9076-4386-8586-3be7fd9d4b2b",
   "metadata": {},
   "outputs": [],
   "source": []
  },
  {
   "cell_type": "code",
   "execution_count": null,
   "id": "701bd18d-8f39-4e2b-959e-c3c761ac6995",
   "metadata": {},
   "outputs": [],
   "source": []
  },
  {
   "cell_type": "code",
   "execution_count": null,
   "id": "810a261e-f826-4e07-8cc7-f22f4ed69ba9",
   "metadata": {},
   "outputs": [],
   "source": []
  },
  {
   "cell_type": "code",
   "execution_count": null,
   "id": "ddb5eddc-bf82-44ac-ad91-bcd4a12920f1",
   "metadata": {},
   "outputs": [],
   "source": []
  },
  {
   "cell_type": "code",
   "execution_count": null,
   "id": "36c13c47-5e73-40e1-a542-7440e23baa41",
   "metadata": {},
   "outputs": [],
   "source": []
  },
  {
   "cell_type": "code",
   "execution_count": null,
   "id": "74a68955-ffa6-4edc-86b7-03243577dde7",
   "metadata": {},
   "outputs": [],
   "source": []
  },
  {
   "cell_type": "code",
   "execution_count": null,
   "id": "464c9cfe-e322-4cbf-bc85-dc2fed7be04e",
   "metadata": {},
   "outputs": [],
   "source": []
  },
  {
   "cell_type": "code",
   "execution_count": null,
   "id": "3f3268e6-93c4-4d51-b5d7-5369334a949a",
   "metadata": {},
   "outputs": [],
   "source": []
  }
 ],
 "metadata": {
  "kernelspec": {
   "display_name": "Python 3 (ipykernel)",
   "language": "python",
   "name": "python3"
  },
  "language_info": {
   "codemirror_mode": {
    "name": "ipython",
    "version": 3
   },
   "file_extension": ".py",
   "mimetype": "text/x-python",
   "name": "python",
   "nbconvert_exporter": "python",
   "pygments_lexer": "ipython3",
   "version": "3.12.4"
  }
 },
 "nbformat": 4,
 "nbformat_minor": 5
}
