{
 "cells": [
  {
   "attachments": {},
   "cell_type": "markdown",
   "id": "27127209-72d9-4dfb-8a96-57717c7705a0",
   "metadata": {},
   "source": [
    "Assignment 1\n",
    "\n",
    "Question 1 -  Write a python scriptsb that prints your name, course name,and the python version you're using\n",
    "\n",
    "Execute the script from the command line and include a screenshot of the outp.PNG\n",
    "\n",
    "\n",
    "\n",
    "\n",
    "\n",
    "\n",
    "\n",
    "\n",
    "\n"
   ]
  },
  {
   "cell_type": "markdown",
   "id": "c04dbd84-c069-4270-905a-f24f069f794a",
   "metadata": {},
   "source": [
    "![label1](./picc.png)"
   ]
  },
  {
   "cell_type": "code",
   "execution_count": 1,
   "id": "5acc7e07-8a22-4bab-8ca1-92c5d123f35d",
   "metadata": {},
   "outputs": [
    {
     "name": "stdout",
     "output_type": "stream",
     "text": [
      "HELLO , PYTHON WORLD\n"
     ]
    }
   ],
   "source": [
    "a = \"HELLO , PYTHON WORLD\"\n",
    "print(a)"
   ]
  },
  {
   "cell_type": "code",
   "execution_count": 1,
   "id": "2b90fd60-f011-4e05-8a0e-75280431175e",
   "metadata": {},
   "outputs": [
    {
     "name": "stdin",
     "output_type": "stream",
     "text": [
      "EnterS the first name: priyanshu\n",
      "Enter the last name: bisht\n"
     ]
    },
    {
     "name": "stdout",
     "output_type": "stream",
     "text": [
      "thsib uhsnayirp\n"
     ]
    }
   ],
   "source": [
    "a= input(\"EnterS the first name:\")\n",
    "b=input(\"Enter the last name:\")\n",
    "c=a+ \" \" +b\n",
    "print(c[::-1])"
   ]
  },
  {
   "cell_type": "code",
   "execution_count": 1,
   "id": "45cab9a0-eda4-4fbe-9402-957eb73efb28",
   "metadata": {},
   "outputs": [
    {
     "name": "stdin",
     "output_type": "stream",
     "text": [
      "Enter a number:  45\n"
     ]
    },
    {
     "name": "stdout",
     "output_type": "stream",
     "text": [
      "Integer value: 45\n",
      "Float value: 45.0\n",
      "Complex value: (45+0j)\n"
     ]
    }
   ],
   "source": [
    "# Take user input as a string\n",
    "user_input = input(\"Enter a number: \")\n",
    "\n",
    "# Convert the input to an integer\n",
    "# Integers are whole numbers without any decimal point.\n",
    "int_value = int(float(user_input))  # We convert to float first to handle decimal input, then to int\n",
    "\n",
    "# Convert the input to a float\n",
    "# Floats are numbers with a decimal point.\n",
    "float_value = float(user_input)\n",
    "\n",
    "# Convert the input to a complex number\n",
    "# Complex numbers have a real part and an imaginary part, written as 'a + bj'.\n",
    "complex_value = complex(user_input)\n",
    "\n",
    "# Display the converted values\n",
    "print(f\"Integer value: {int_value}\")\n",
    "print(f\"Float value: {float_value}\")\n",
    "print(f\"Complex value: {complex_value}\")\n",
    "\n",
    "# #Integer (int):\n",
    "# Whole numbers without a decimal point, like 5, -3, or 0.\n",
    "\n",
    "# Float (float):\n",
    "# Numbers with a decimal point, like 4.5, -0.1, or 3.0.\n",
    "\n",
    "# Complex (complex):\n",
    "# Numbers with a real and an imaginary part, written as a + bj (e.g., 2 + 3j)."
   ]
  },
  {
   "cell_type": "code",
   "execution_count": 2,
   "id": "115f8366-3fa0-46e8-87f6-57436a410efb",
   "metadata": {},
   "outputs": [
    {
     "name": "stdin",
     "output_type": "stream",
     "text": [
      "Enter the length of the rectangle:  4\n",
      "Enter the width of the rectangle:  2\n"
     ]
    },
    {
     "name": "stdout",
     "output_type": "stream",
     "text": [
      "The area of the rectangle is: 8.0\n"
     ]
    }
   ],
   "source": [
    "# Prompt the user to enter the length of the rectangle\n",
    "length = float(input(\"Enter the length of the rectangle: \"))\n",
    "\n",
    "# Prompt the user to enter the width of the rectangle\n",
    "width = float(input(\"Enter the width of the rectangle: \"))\n",
    "\n",
    "# Calculate the area of the rectangle\n",
    "area = length * width\n",
    "\n",
    "# Display the result\n",
    "print(f\"The area of the rectangle is: {area}\")\n"
   ]
  },
  {
   "cell_type": "code",
   "execution_count": 4,
   "id": "19d927ce-0645-4f5b-bf89-e023923c2794",
   "metadata": {},
   "outputs": [
    {
     "name": "stdout",
     "output_type": "stream",
     "text": [
      "The area of the rectangle is: 8.00\n"
     ]
    }
   ],
   "source": [
    "# Display the result with two decimal places\n",
    "print(f\"The area of the rectangle is: {area:.2f}\")"
   ]
  },
  {
   "cell_type": "code",
   "execution_count": 5,
   "id": "63f03060-72fd-40cf-bdcd-f98868e8f187",
   "metadata": {},
   "outputs": [
    {
     "name": "stdin",
     "output_type": "stream",
     "text": [
      "Enter the first number:  8.0\n",
      "Enter the second number:  2.5\n",
      "Enter the third number:  8.8\n"
     ]
    },
    {
     "name": "stdout",
     "output_type": "stream",
     "text": [
      "The average of the three numbers is: 6.43\n"
     ]
    }
   ],
   "source": [
    "# Prompt the user to enter the first number\n",
    "num1 = float(input(\"Enter the first number: \"))\n",
    "\n",
    "# Prompt the user to enter the second number\n",
    "num2 = float(input(\"Enter the second number: \"))\n",
    "\n",
    "# Prompt the user to enter the third number\n",
    "num3 = float(input(\"Enter the third number: \"))\n",
    "\n",
    "# Calculate the average of the three numbers\n",
    "average = (num1 + num2 + num3) / 3\n",
    "\n",
    "# Display the result using the % method for string formatting\n",
    "print(\"The average of the three numbers is: %.2f\" % average)\n"
   ]
  },
  {
   "cell_type": "code",
   "execution_count": 6,
   "id": "1843569d-f5a8-442d-b5b9-104a669f3052",
   "metadata": {},
   "outputs": [
    {
     "name": "stdin",
     "output_type": "stream",
     "text": [
      "Enter a number:  20\n"
     ]
    },
    {
     "name": "stdout",
     "output_type": "stream",
     "text": [
      "The number is positive.\n"
     ]
    }
   ],
   "source": [
    "# Ask the user for a number\n",
    "number = float(input(\"Enter a number: \"))\n",
    "\n",
    "# Determine if the number is positive, negative, or zero using if elif and else statement\n",
    "if number > 0:\n",
    "    print(\"The number is positive.\")\n",
    "elif number < 0:\n",
    "    print(\"The number is negative.\")\n",
    "else:\n",
    "    print(\"The number is zero.\")"
   ]
  },
  {
   "cell_type": "code",
   "execution_count": 6,
   "id": "38f1d1f9-be2e-4fad-add9-e7ccdf43e9e4",
   "metadata": {},
   "outputs": [
    {
     "name": "stdin",
     "output_type": "stream",
     "text": [
      "Enter a number (or type 'exit' to quit):  5\n"
     ]
    },
    {
     "name": "stdout",
     "output_type": "stream",
     "text": [
      "The number is positive.\n"
     ]
    },
    {
     "name": "stdin",
     "output_type": "stream",
     "text": [
      "Enter a number (or type 'exit' to quit):  -4\n"
     ]
    },
    {
     "name": "stdout",
     "output_type": "stream",
     "text": [
      "The number is negative.\n"
     ]
    },
    {
     "name": "stdin",
     "output_type": "stream",
     "text": [
      "Enter a number (or type 'exit' to quit):  exit\n"
     ]
    },
    {
     "name": "stdout",
     "output_type": "stream",
     "text": [
      "Program terminated.\n"
     ]
    }
   ],
   "source": [
    "while True:\n",
    "    # Ask the user for a number or to type 'exit' to quit\n",
    "    user_input = input(\"Enter a number (or type 'exit' to quit): \")\n",
    "\n",
    "    # Check if the user wants to exit\n",
    "    if user_input.lower() == 'exit':\n",
    "        break\n",
    "\n",
    "    # Convert the input to a float and check if it's positive, negative, or zero\n",
    "    number = float(user_input)\n",
    "    \n",
    "    if number > 0:\n",
    "        print(\"The number is positive.\")\n",
    "    elif number < 0:\n",
    "        print(\"The number is negative.\")\n",
    "    else:\n",
    "        print(\"The number is zero.\")\n",
    "\n",
    "print(\"Program terminated.\")"
   ]
  },
  {
   "cell_type": "code",
   "execution_count": 8,
   "id": "dbf3a90c-dceb-4341-a2e7-6ddf74b168d4",
   "metadata": {},
   "outputs": [
    {
     "name": "stdin",
     "output_type": "stream",
     "text": [
      "Enter the first number:  20\n",
      "Enter the second number:  25\n"
     ]
    },
    {
     "name": "stdout",
     "output_type": "stream",
     "text": [
      "One number is even, and the other is odd.\n"
     ]
    }
   ],
   "source": [
    "# Prompt the user to enter the first number\n",
    "num1 = int(input(\"Enter the first number: \"))\n",
    "\n",
    "# Prompt the user to enter the second number\n",
    "num2 = int(input(\"Enter the second number: \"))\n",
    "\n",
    "# Check if both numbers are even\n",
    "if num1 % 2 == 0 and num2 % 2 == 0:\n",
    "    print(\"Both numbers are even.\")\n",
    "# Check if both numbers are odd\n",
    "elif num1 % 2 != 0 and num2 % 2 != 0:\n",
    "    print(\"Both numbers are odd.\")\n",
    "# If neither of the above, one must be even and the other odd\n",
    "else:\n",
    "    print(\"One number is even, and the other is odd.\")\n"
   ]
  },
  {
   "cell_type": "code",
   "execution_count": 9,
   "id": "a74235ea-ae5a-42af-be78-0107a5606b85",
   "metadata": {},
   "outputs": [
    {
     "name": "stdin",
     "output_type": "stream",
     "text": [
      "Enter an integer:  200\n"
     ]
    },
    {
     "name": "stdout",
     "output_type": "stream",
     "text": [
      "Binary: 11001000\n",
      "Octal: 310\n",
      "Hexadecimal: C8\n"
     ]
    }
   ],
   "source": [
    "# Function to convert decimal to binary\n",
    "def decimal_to_binary(n):\n",
    "    binary = \"\"\n",
    "    for i in range(31, -1, -1):  # Loop through 32 bits (assuming a 32-bit integer)\n",
    "        bit = (n >> i) & 1  # Right shift and bitwise AND to get the bit at position i\n",
    "        binary += str(bit)\n",
    "    # Remove leading zeros for better readability\n",
    "    return binary.lstrip('0') or '0'\n",
    "\n",
    "# Function to convert decimal to octal\n",
    "def decimal_to_octal(n):\n",
    "    octal = \"\"\n",
    "    temp = n\n",
    "    while temp > 0:\n",
    "        octal = str(temp & 7) + octal  # Bitwise AND with 7 (111 in binary) gives the last three bits\n",
    "        temp >>= 3  # Right shift by 3 bits (divide by 8)\n",
    "    return octal or '0'\n",
    "\n",
    "# Function to convert decimal to hexadecimal\n",
    "def decimal_to_hexadecimal(n):\n",
    "    hex_digits = \"0123456789ABCDEF\"\n",
    "    hexadecimal = \"\"\n",
    "    temp = n\n",
    "    while temp > 0:\n",
    "        hexadecimal = hex_digits[temp & 15] + hexadecimal  # Bitwise AND with 15 (1111 in binary) gives the last four bits\n",
    "        temp >>= 4  # Right shift by 4 bits (divide by 16)\n",
    "    return hexadecimal or '0'\n",
    "\n",
    "# Input integer from the user\n",
    "number = int(input(\"Enter an integer: \"))\n",
    "\n",
    "# Print the binary equivalent\n",
    "print(\"Binary: \" + decimal_to_binary(number))\n",
    "\n",
    "# Print the octal equivalent\n",
    "print(\"Octal: \" + decimal_to_octal(number))\n",
    "\n",
    "# Print the hexadecimal equivalent\n",
    "print(\"Hexadecimal: \" + decimal_to_hexadecimal(number))\n"
   ]
  },
  {
   "cell_type": "code",
   "execution_count": null,
   "id": "25df9172-c4af-4f11-a701-0257d8e74370",
   "metadata": {},
   "outputs": [],
   "source": []
  }
 ],
 "metadata": {
  "kernelspec": {
   "display_name": "Python 3 (ipykernel)",
   "language": "python",
   "name": "python3"
  },
  "language_info": {
   "codemirror_mode": {
    "name": "ipython",
    "version": 3
   },
   "file_extension": ".py",
   "mimetype": "text/x-python",
   "name": "python",
   "nbconvert_exporter": "python",
   "pygments_lexer": "ipython3",
   "version": "3.11.9"
  }
 },
 "nbformat": 4,
 "nbformat_minor": 5
}
